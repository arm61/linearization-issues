{
 "cells": [
  {
   "cell_type": "markdown",
   "id": "28c4f415-e490-4526-8ffa-597fe5f17220",
   "metadata": {},
   "source": [
    "# Weighted non-linear fitting\n",
    "\n",
    "This notebook outlines how Python code can be used to perform the weighted non-linear fitting approach.\n",
    "The approach used here is general to any non-linear function, but we will use the example of a first order integrated rate law that appears in the main text of the paper. \n",
    "\n",
    "The first step is to import the necessary Python modules and functions that we will be using. "
   ]
  },
  {
   "cell_type": "code",
   "execution_count": null,
   "id": "61e66cdb-db04-4502-9cd7-58adfea725c7",
   "metadata": {
    "tags": []
   },
   "outputs": [],
   "source": [
    "import numpy as np\n",
    "from scipy.optimize import curve_fit\n",
    "import matplotlib.pyplot as plt"
   ]
  },
  {
   "cell_type": "markdown",
   "id": "65834b36-c234-4000-881d-efa493207456",
   "metadata": {},
   "source": [
    "The next step is to define the non-linear funtion that we will fit, below we define the first-order integrated rate equation. "
   ]
  },
  {
   "cell_type": "code",
   "execution_count": null,
   "id": "8ab3f3ed-1f32-41a7-b571-f6de0df986f2",
   "metadata": {},
   "outputs": [],
   "source": [
    "def first_order(t: np.ndarray, k: float, A0: float) -> np.ndarray:\n",
    "    \"\"\"\n",
    "    The first order integrated rate equation.\n",
    "\n",
    "    Args:\n",
    "        t (:py:attr:`array_like`): The time data.\n",
    "        k (:py:attr:`float`): The rate constant value.\n",
    "        A0 (:py:attr:`float`): The initial reactant concentration value.\n",
    "\n",
    "    :return: The concentration at time t.\n",
    "    \"\"\"\n",
    "    return A0 * np.exp(-1 * k  * t)"
   ]
  },
  {
   "cell_type": "markdown",
   "id": "3c948735-da57-4535-9289-dbe66bfd3290",
   "metadata": {},
   "source": [
    "The cell below defines the data that we are hoping to model, which as been taken from Monk and Munro [[1]](#References). \n",
    "This is time and concentration data, with a constant uncertainty in concentration. "
   ]
  },
  {
   "cell_type": "code",
   "execution_count": null,
   "id": "f10f6eb8-4570-4b3f-a0cb-431a13d641db",
   "metadata": {},
   "outputs": [],
   "source": [
    "t = np.array([2, 4, 6, 8, 10, 12, 14, 16, 18, 20])\n",
    "At = np.array([6.23, 4.84, 3.76, 3.20, 2.60, 2.16, 1.85, 1.49, 1.27, 1.01])\n",
    "At_err = np.ones_like(At) * 0.3"
   ]
  },
  {
   "cell_type": "markdown",
   "id": "7f16447a-ca72-494d-b777-9f96d95089f8",
   "metadata": {},
   "source": [
    "We can then use the `curve_fit` function to estimate the best fit parameters for the non-linear equation. \n",
    "The `sigma` keyword argument lets us include uncertainty weighting. "
   ]
  },
  {
   "cell_type": "code",
   "execution_count": null,
   "id": "80701264-ea8a-4b9c-af13-06ef19a11f2c",
   "metadata": {},
   "outputs": [],
   "source": [
    "popt, pcov = curve_fit(first_order, t, At, sigma=At_err)\n",
    "perr = np.diag(np.sqrt(pcov))"
   ]
  },
  {
   "cell_type": "markdown",
   "id": "34c6a8ca-3fff-4b06-8bf6-269a9b6c33d5",
   "metadata": {},
   "source": [
    "We then print the results below and plot the data, both as a linear and non-linear plot."
   ]
  },
  {
   "cell_type": "code",
   "execution_count": null,
   "id": "2ee56c6c-ed70-4b8c-82b5-09fb67883bc7",
   "metadata": {},
   "outputs": [],
   "source": [
    "print(f'k = {popt[0]:.3f} +/ {perr[0]:.3f} s^{-1}')\n",
    "print(f'A0 = {popt[1]:.2f} +/ {perr[1]:.2f} mol m^{-3}')"
   ]
  },
  {
   "cell_type": "code",
   "execution_count": null,
   "id": "7baffe65-b092-4b9c-8240-8dc84baa4a20",
   "metadata": {},
   "outputs": [],
   "source": [
    "fig, ax = plt.subplots(1, 2, figsize=(8, 4))\n",
    "\n",
    "ax[0].errorbar(t, At, At_err, marker='.', ls='')\n",
    "ax[0].plot(t, first_order(t, *popt), '-')\n",
    "ax[0].set_yscale('log')\n",
    "ax[0].set_xlabel('t/s')\n",
    "ax[0].set_ylabel('$[\\mathrm{A}]$ / mol m$^{-3}$')\n",
    "ax[1].errorbar(t, At, At_err, marker='.', ls='')\n",
    "ax[1].plot(t, first_order(t, *popt), '-')\n",
    "ax[1].set_xlabel('t/s')\n",
    "ax[1].set_ylabel('$[\\mathrm{A}]$ / mol m$^{-3}$')\n",
    "plt.tight_layout()\n",
    "plt.show()"
   ]
  },
  {
   "cell_type": "markdown",
   "id": "5a429caa-3923-4c29-9b40-138d54466a8c",
   "metadata": {},
   "source": [
    "# References\n",
    "\n",
    "1. Monk, P.; Munro, L. J. *Maths for Chemistry: A chemist’s toolkit of calculations*, 2nd ed.; Oxford University Press: London, UK, 2010."
   ]
  }
 ],
 "metadata": {
  "kernelspec": {
   "display_name": "Python [conda env:kinisi]",
   "language": "python",
   "name": "conda-env-kinisi-py"
  },
  "language_info": {
   "codemirror_mode": {
    "name": "ipython",
    "version": 3
   },
   "file_extension": ".py",
   "mimetype": "text/x-python",
   "name": "python",
   "nbconvert_exporter": "python",
   "pygments_lexer": "ipython3",
   "version": "3.9.15"
  }
 },
 "nbformat": 4,
 "nbformat_minor": 5
}
